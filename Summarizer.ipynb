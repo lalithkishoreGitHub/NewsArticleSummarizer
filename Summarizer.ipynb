{
 "cells": [
  {
   "cell_type": "code",
   "execution_count": 1,
   "id": "6f835c9e-eba0-40a2-a925-e634edb172ea",
   "metadata": {},
   "outputs": [],
   "source": [
    "from datasets import load_dataset"
   ]
  },
  {
   "cell_type": "code",
   "execution_count": 3,
   "id": "6769f8dc-102a-4a16-aa4a-9cfa45e75b12",
   "metadata": {},
   "outputs": [
    {
     "name": "stdout",
     "output_type": "stream",
     "text": [
      "DatasetDict({\n",
      "    train: Dataset({\n",
      "        features: ['document', 'summary'],\n",
      "        num_rows: 44972\n",
      "    })\n",
      "    validation: Dataset({\n",
      "        features: ['document', 'summary'],\n",
      "        num_rows: 5622\n",
      "    })\n",
      "    test: Dataset({\n",
      "        features: ['document', 'summary'],\n",
      "        num_rows: 5622\n",
      "    })\n",
      "})\n"
     ]
    }
   ],
   "source": [
    "dataset = load_dataset(\"multi_news\",trust_remote_code=True)\n",
    "print(dataset)"
   ]
  },
  {
   "cell_type": "code",
   "execution_count": 5,
   "id": "2b121c4b-ee54-4526-906d-46b42037a33b",
   "metadata": {},
   "outputs": [
    {
     "data": {
      "text/plain": [
       "{'document': 'National Archives \\n \\n Yes, it’s that time again, folks. It’s the first Friday of the month, when for one ever-so-brief moment the interests of Wall Street, Washington and Main Street are all aligned on one thing: Jobs. \\n \\n A fresh update on the U.S. employment situation for January hits the wires at 8:30 a.m. New York time offering one of the most important snapshots on how the economy fared during the previous month. Expectations are for 203,000 new jobs to be created, according to economists polled by Dow Jones Newswires, compared to 227,000 jobs added in February. The unemployment rate is expected to hold steady at 8.3%. \\n \\n Here at MarketBeat HQ, we’ll be offering color commentary before and after the data crosses the wires. Feel free to weigh-in yourself, via the comments section. And while you’re here, why don’t you sign up to follow us on Twitter. \\n \\n Enjoy the show. ||||| Employers pulled back sharply on hiring last month, a reminder that the U.S. economy may not be growing fast enough to sustain robust job growth. The unemployment rate dipped, but mostly because more Americans stopped looking for work. \\n \\n The Labor Department says the economy added 120,000 jobs in March, down from more than 200,000 in each of the previous three months. \\n \\n The unemployment rate fell to 8.2 percent, the lowest since January 2009. The rate dropped because fewer people searched for jobs. The official unemployment tally only includes those seeking work. \\n \\n The economy has added 858,000 jobs since December _ the best four months of hiring in two years. But Federal Reserve Chairman Ben Bernanke has cautioned that the current hiring pace is unlikely to continue without more consumer spending.',\n",
       " 'summary': '– The unemployment rate dropped to 8.2% last month, but the economy only added 120,000 jobs, when 203,000 new jobs had been predicted, according to today\\'s jobs report. Reaction on the Wall Street Journal\\'s MarketBeat Blog was swift: \"Woah!!! Bad number.\" The unemployment rate, however, is better news; it had been expected to hold steady at 8.3%. But the AP notes that the dip is mostly due to more Americans giving up on seeking employment.'}"
      ]
     },
     "execution_count": 5,
     "metadata": {},
     "output_type": "execute_result"
    }
   ],
   "source": [
    "dataset[\"train\"][0]"
   ]
  },
  {
   "cell_type": "code",
   "execution_count": 7,
   "id": "4c5d7147-4a24-4826-8109-003fd62a5f24",
   "metadata": {},
   "outputs": [
    {
     "data": {
      "text/plain": [
       "{'document': 'GOP Eyes Gains As Voters In 11 States Pick Governors \\n \\n Enlarge this image toggle caption Jim Cole/AP Jim Cole/AP \\n \\n Voters in 11 states will pick their governors tonight, and Republicans appear on track to increase their numbers by at least one, with the potential to extend their hold to more than two-thirds of the nation\\'s top state offices. \\n \\n Eight of the gubernatorial seats up for grabs are now held by Democrats; three are in Republican hands. Republicans currently hold 29 governorships, Democrats have 20, and Rhode Island\\'s Gov. Lincoln Chafee is an Independent. \\n \\n Polls and race analysts suggest that only three of tonight\\'s contests are considered competitive, all in states where incumbent Democratic governors aren\\'t running again: Montana, New Hampshire and Washington. \\n \\n While those state races remain too close to call, Republicans are expected to wrest the North Carolina governorship from Democratic control, and to easily win GOP-held seats in Utah, North Dakota and Indiana. \\n \\n Democrats are likely to hold on to their seats in West Virginia and Missouri, and are expected to notch safe wins in races for seats they hold in Vermont and Delaware. \\n \\n Holding Sway On Health Care \\n \\n While the occupant of the governor\\'s office is historically far less important than the party that controls the state legislature, top state officials in coming years are expected to wield significant influence in at least one major area. \\n \\n And that\\'s health care, says political scientist Thad Kousser, co-author of The Power of American Governors. \\n \\n \"No matter who wins the presidency, national politics is going to be stalemated on the Affordable Care Act,\" says Kousser, of the University of California, San Diego. \\n \\n A recent U.S. Supreme Court decision giving states the ability to opt out of the law\\'s expansion of Medicaid, the federal insurance program for poor, disabled and elderly Americans, confers \"incredible power\" on the states and their governors, Kousser says. \\n \\n Just look at what happened when the Obama administration in 2010 offered federal stimulus money to states to begin building a high-speed rail network. Three Republican governors, including Rick Scott of Florida and Scott Walker of Wisconsin, rejected a share of the money citing debt and deficit concerns. \\n \\n \"A [Mitt] Romney victory would dramatically empower Republican governors,\" Kousser says. \\n \\n State-By-State View \\n \\n North Carolina: One-term incumbent Democratic Gov. Beverly Perdue, the first woman to hold the state\\'s top office, announced in January that she would not seek re-election after polls showed her with high disapproval ratings and trailing Republican candidate Pat McCrory. \\n \\n The seat is expected to be won by McCrory, a former Charlotte mayor, who is facing Perdue\\'s lieutenant governor, Walter Dalton. McCrory lost a close race to Perdue in 2008, when then-presidential candidate Barack Obama became the first Democrat to win North Carolina in more than three decades. The Real Clear Politics average for the race has McCrory maintaining a 14.3 percentage point lead. \\n \\n Montana: Popular Democratic Gov. Brian Schweitzer — he won his last election with 65 percent of the vote — has reached his two-term limit. The state\\'s Democratic Attorney General Steve Bullock is trying to keep the seat in his party\\'s column by associating himself with Schweitzer\\'s legacy. He\\'s in a tough race with former two-term GOP Rep. Rick Hill. \\n \\n New Hampshire: Former Democratic state Sen. Maggie Hassan has also promised a continuation of the policies of her predecessor, retiring Democratic Gov. John Lynch. Her opponent is lawyer Ovide Lamontagne, a Tea Party conservative who ran unsuccessfully for governor in 1996 and for the U.S. Senate in 2010. The national parties have invested in the campaigns, which have focused on fiscal and women\\'s health care issues. \\n \\n Washington: The state\\'s governorship has been in Democratic hands for 32 years, and former U.S. Rep. Jay Inslee is in a dead-heat battle to keep it that way. His opponent is the state\\'s Republican Attorney General Rob McKenna. McKenna has a proven ability to win statewide, but working in Inslee\\'s favor are Obama\\'s poll numbers. The Real Clear Politics average shows Obama with an average 13.6 percentage point lead over Romney; Inslee is leading McKenna by an average of 1 percentage point. \\n \\n Pretty Much Sure Things \\n \\n Republican Govs. Jack Dalrymple in North Dakota and Gary Herbert in Utah, and GOP Rep. Mike Pence in Indiana are expected to win. So are Democratic Govs. Peter Shumlin in Vermont and Jack Markell in Delaware. \\n \\n Democrats are also hoping to hold on to the governorship in Missouri, where Jay Nixon is running for a second term against Republican Dave Spence; and in West Virginia, where Gov. Earl Ray Tomblin, former state senate president, is running for his first full term after winning a special election in 2011. GOP businessman Bill Maloney is his opponent, as he was last year. \\n \\n Nixon has been consistently outpolling Spence by an average of about 7 points in Missouri. Tomblin is seen as likely to retain his seat, even in a state where Romney is leading Obama by double digits. ||||| GOP Eyes Gains As Voters In 11 States Pick Governors \\n \\n Jim Cole / AP i Jim Cole / AP \\n \\n Voters in 11 states will pick their governors tonight, and Republicans appear on track to increase their numbers by at least one, and with the potential to extend their hold to more than two-thirds of the nation\\'s top state offices. \\n \\n Eight of the gubernatorial seats up for grabs today are now held by Democrats; three are in Republican hands. Republicans currently hold 29 governorships, Democrats have 20; and Rhode Island\\'s Gov. Lincoln Chafee is an Independent. \\n \\n Polls and race analysts suggest that only three of tonight\\'s contests are considered competitive, all in states where incumbent Democratic governors aren\\'t running again: Montana, New Hampshire and Washington. \\n \\n While those state races remain too close to call, Republicans are expected to wrest the North Carolina governorship from Democratic control, and to easily win GOP-held seats in Utah, North Dakota and Indiana. \\n \\n Democrats are likely hold on to their seats in West Virginia and Missouri; and expected to notch safe wins in races for seats they hold in Vermont and Delaware. \\n \\n Holding Sway On Health Care \\n \\n While the occupant of the governor\\'s office is historically far less important than the party that controls the state legislature, top state officials in coming years are expected to wield significant influence in at least one major area. \\n \\n And that\\'s health care, says political scientist Thad Kousser, co-author of The Power of American Governors. \\n \\n \"No matter who wins the presidency, national politics is going to be stalemated on the Affordable Care Act,\" says Kousser, of the University of California-Berkeley. \\n \\n A recent U.S. Supreme Court decision giving states the ability to opt out of the law\\'s expansion of Medicaid, the federal insurance program for poor, disabled and elderly Americans, confers \"incredible power\" on the states and their governors, Kousser says. \\n \\n Just look at what happened when the Obama administration in 2010 offered federal stimulus money to states to begin building a high-speed rail network. Three Republican governors, including Rick Scott of Florida and Scott Walker of Wisconsin, rejected a share of the money citing debt and deficit concerns. \\n \\n \"A [Mitt] Romney victory would dramatically empower Republican governors,\" Kousser says. \\n \\n State-by-State View \\n \\n North Carolina: One-term incumbent Democratic Gov. Beverly Perdue, the first woman to hold the state\\'s top office, announced in January she would not seek re-election after polls showed her with high disapproval ratings and trailing Republican candidate Pat McCrory. \\n \\n The seat is expected to be won by McCrory, a former Charlotte mayor, who is facing Perdue\\'s lieutenant governor, Walter Dalton. McCrory lost a close race to Perdue in 2008, when then-presidential candidate Barack Obama became the first Democrat to win North Carolina in more than three decades. The Real Clear Politics average for the race has McCrory maintaining a 14.3 percentage point lead. \\n \\n Montana: Popular Democratic Gov. Brian Schweitzer — he won his last election with 65 percent of the vote — has reached his two-term limit. The state\\'s Democratic Attorney General Steve Bullock is trying to keep the seat in his party\\'s column by associating himself with Schweitzer\\'s legacy. He\\'s in a tough race with former two-term GOP Rep. Rick Hill. \\n \\n New Hampshire: Former Democratic state Sen. Maggie Hassan has also promised a continuation of the policies of her predecessor, retiring Democratic Gov. John Lynch. Her opponent is lawyer Ovide Lamontagne, a Tea Party conservative who ran unsuccessfully for governor in 1996 and for the U.S. Senate in 2010. The national parties have invested in the campaigns, which have focused on fiscal and women\\'s health care issues. \\n \\n Washington: The state\\'s governorship has been in Democratic hands for 32 years, and former Rep. Jay Inslee is in a dead-heat battle to keep it that way. His opponent is the state\\'s Republican Attorney General Rob McKenna. McKenna has a proven ability to win statewide, but working in Inslee\\'s favor are Obama\\'s poll numbers. The Real Clear Politics average shows Obama with an average 13.6 point lead over Romney; Inslee\\'s leading McKenna by an average of 1 percentage point. \\n \\n Pretty Much Sure Things \\n \\n Republican governors Jack Dalrymple in North Dakota and Gary Herbert in Utah, and GOP Rep. Mike Pence in Indiana are expected to win. So are Democratic governors Peter Shumlin in Vermont and Jack Markell in Delaware. \\n \\n Democrats are also hoping to hold on to the governorship in Missouri, where Jay Nixon is running for a second term against Republican Dave Spence; and in West Virginia, where Gov. Earl Ray Tomblin, former state senate president, is running for his first full term after willing a special election in 2011. GOP businessman Bill Maloney is his opponent, as he was last year. \\n \\n Nixon has been consistently out-polling Spence by an average of about 7 points in Missouri. Tomblin is seen as likely to retain his seat, even in a state where Romney is leading Obama by double digits.',\n",
       " 'summary': '– It\\'s a race for the governor\\'s mansion in 11 states today, and the GOP could end the night at the helm of more than two-thirds of the 50 states. The GOP currently controls 29 of the country\\'s top state offices; it\\'s expected to keep the three Republican ones that are up for grabs (Utah, North Dakota, and Indiana), and wrest North Carolina from the Dems. That brings its toll to 30, with the potential to take three more, reports NPR. Races in Montana, New Hampshire, and Washington are still too close to call, and in all three, Democrat incumbents aren\\'t seeking reelection. The results could have a big impact on health care, since a Supreme Court ruling grants states the ability to opt out of ObamaCare\\'s Medicaid expansion. \"A Romney victory would dramatically empower Republican governors,\" said one analyst. Click for NPR\\'s state-by-state breakdown of what could happen.'}"
      ]
     },
     "execution_count": 7,
     "metadata": {},
     "output_type": "execute_result"
    }
   ],
   "source": [
    "dataset[\"test\"][0]"
   ]
  },
  {
   "cell_type": "code",
   "execution_count": 9,
   "id": "39608cd8-47b4-43ac-8855-22ffb480a68b",
   "metadata": {},
   "outputs": [],
   "source": [
    "articles = [x for x in dataset[\"train\"][\"document\"]]"
   ]
  },
  {
   "cell_type": "code",
   "execution_count": 11,
   "id": "3935b319-cf44-4ccb-ac6f-a706c2cbc9cb",
   "metadata": {},
   "outputs": [],
   "source": [
    "article_count = [len(y.split('|||||')) for y in articles]"
   ]
  },
  {
   "cell_type": "code",
   "execution_count": 13,
   "id": "32890cf1-e617-4435-8853-8bd640443dd8",
   "metadata": {},
   "outputs": [
    {
     "name": "stdout",
     "output_type": "stream",
     "text": [
      "1 : 504\n",
      "2 : 23743\n",
      "3 : 12577\n",
      "4 : 4921\n",
      "5 : 1845\n",
      "6 : 707\n",
      "7 : 371\n",
      "8 : 194\n",
      "9 : 81\n",
      "10 : 29\n"
     ]
    }
   ],
   "source": [
    "for i in set(article_count):\n",
    "    print(i,':',article_count.count(i))"
   ]
  },
  {
   "cell_type": "markdown",
   "id": "95418acb-9f13-4616-84ce-ed1ce81dff3e",
   "metadata": {},
   "source": [
    "# Article Splitting and Text Cleaning"
   ]
  },
  {
   "cell_type": "code",
   "execution_count": 16,
   "id": "094c26ce-c4a6-40a3-ab04-464092c8db77",
   "metadata": {},
   "outputs": [],
   "source": [
    "import pandas as pd"
   ]
  },
  {
   "cell_type": "code",
   "execution_count": 18,
   "id": "474d4488-f1f8-4516-9865-92e78b541b42",
   "metadata": {},
   "outputs": [],
   "source": [
    "news_df = pd.DataFrame(dataset[\"train\"])"
   ]
  },
  {
   "cell_type": "code",
   "execution_count": 20,
   "id": "bbff8617-8b3e-429d-9143-854e85b58e9e",
   "metadata": {},
   "outputs": [
    {
     "name": "stdout",
     "output_type": "stream",
     "text": [
      "<class 'pandas.core.frame.DataFrame'>\n",
      "RangeIndex: 44972 entries, 0 to 44971\n",
      "Data columns (total 2 columns):\n",
      " #   Column    Non-Null Count  Dtype \n",
      "---  ------    --------------  ----- \n",
      " 0   document  44972 non-null  object\n",
      " 1   summary   44972 non-null  object\n",
      "dtypes: object(2)\n",
      "memory usage: 702.8+ KB\n"
     ]
    }
   ],
   "source": [
    "news_df.info()"
   ]
  },
  {
   "cell_type": "code",
   "execution_count": 22,
   "id": "32b105e2-1d64-464b-ae15-050fbcdf333d",
   "metadata": {},
   "outputs": [],
   "source": [
    "import string"
   ]
  },
  {
   "cell_type": "code",
   "execution_count": 24,
   "id": "7fab6b8a-a7b3-4ffb-8670-b9a51387279e",
   "metadata": {},
   "outputs": [],
   "source": [
    "import re"
   ]
  },
  {
   "cell_type": "code",
   "execution_count": 26,
   "id": "722126a3-32e7-414e-a145-e1af804b7a13",
   "metadata": {},
   "outputs": [],
   "source": [
    "punct_to_remove = string.punctuation"
   ]
  },
  {
   "cell_type": "code",
   "execution_count": 28,
   "id": "91e563d7-0a90-4b14-b34f-de3ae4684d81",
   "metadata": {},
   "outputs": [],
   "source": [
    "# Convert the content to lowercase\n",
    "news_df[\"document\"] = news_df[\"document\"].str.lower()\n",
    "# Remove the punctuations\n",
    "news_df[\"document\"] = news_df[\"document\"].str.translate(str.maketrans('','',punct_to_remove))\n",
    "# Replace White Spaces\n",
    "news_df[\"document\"] = news_df[\"document\"].str.replace(\" \",\"\")\n",
    "# Remove Special Characters\n",
    "news_df[\"document\"] = news_df[\"document\"].apply(lambda x : re.sub(r'[^a-zA-Z0-9]',\"\",x))"
   ]
  },
  {
   "cell_type": "code",
   "execution_count": 30,
   "id": "13a3eee5-99d6-43ff-89da-706a499f8bd4",
   "metadata": {},
   "outputs": [],
   "source": [
    "# Convert to lowercase\n",
    "news_df[\"summary\"] = news_df[\"summary\"].str.lower()\n",
    "# Remove the punctuations\n",
    "news_df[\"summary\"] = news_df[\"summary\"].str.translate(str.maketrans('','',punct_to_remove))\n",
    "# Replace White Spaces\n",
    "news_df[\"summary\"] = news_df[\"summary\"].str.replace(\" \",\"\")\n",
    "# Remove Special Characters\n",
    "news_df[\"summary\"] = news_df[\"summary\"].apply(lambda x : re.sub(r'[^a-zA-Z0-9]',\"\",x))"
   ]
  },
  {
   "cell_type": "code",
   "execution_count": 32,
   "id": "3cc6c63d-e643-47e2-8181-eafe23061639",
   "metadata": {},
   "outputs": [],
   "source": [
    "news_df[\"articles\"] = news_df[\"document\"].str.split(r\"\\s*\\|\\|\\|\\|\\|\\s*\")"
   ]
  },
  {
   "cell_type": "code",
   "execution_count": 34,
   "id": "5a63ef1d-0f3c-404c-bea4-432f9cc8e2f3",
   "metadata": {},
   "outputs": [
    {
     "name": "stdout",
     "output_type": "stream",
     "text": [
      "<class 'pandas.core.frame.DataFrame'>\n",
      "RangeIndex: 44972 entries, 0 to 44971\n",
      "Data columns (total 3 columns):\n",
      " #   Column    Non-Null Count  Dtype \n",
      "---  ------    --------------  ----- \n",
      " 0   document  44972 non-null  object\n",
      " 1   summary   44972 non-null  object\n",
      " 2   articles  44972 non-null  object\n",
      "dtypes: object(3)\n",
      "memory usage: 1.0+ MB\n"
     ]
    }
   ],
   "source": [
    "news_df.info()"
   ]
  },
  {
   "cell_type": "markdown",
   "id": "5c8671e7-bfd8-46fc-a42b-d7b9f1fb7650",
   "metadata": {},
   "source": [
    "# Tokenization"
   ]
  },
  {
   "cell_type": "code",
   "execution_count": 37,
   "id": "63cfe799-d754-4875-9549-71ed1d73ff3a",
   "metadata": {},
   "outputs": [],
   "source": [
    "from transformers import AutoTokenizer"
   ]
  },
  {
   "cell_type": "code",
   "execution_count": 39,
   "id": "90830dbb-ae2a-4d41-9522-ef3a7593020f",
   "metadata": {},
   "outputs": [],
   "source": [
    "tokenizer = AutoTokenizer.from_pretrained(\"facebook/bart-large-cnn\")"
   ]
  },
  {
   "cell_type": "code",
   "execution_count": 41,
   "id": "7a5b5012-5b06-4b2e-92f1-6abb1fc4a5b9",
   "metadata": {},
   "outputs": [],
   "source": [
    "news_df[\"tokenized_article\"] = news_df[\"articles\"].apply(\n",
    "    lambda x : tokenizer.batch_encode_plus(x, truncation=True, padding=\"max_length\", max_length=1024)\n",
    "                            )"
   ]
  },
  {
   "cell_type": "code",
   "execution_count": 43,
   "id": "a01c19e5-9cab-4f0a-bf91-f600daddad34",
   "metadata": {},
   "outputs": [
    {
     "data": {
      "text/plain": [
       "{'input_ids': [[0, 11535, 45974, 10932, 405, 620, 16001, 4235, 23201, 22588, 2258, 405, 620, 700, 9502, 12997, 21746, 20168, 700, 2151, 14746, 1990, 1264, 6294, 2527, 428, 24062, 27363, 1342, 627, 15979, 2527, 506, 12764, 20521, 605, 40886, 463, 17894, 20521, 1322, 1250, 36967, 261, 39677, 8223, 41207, 2001, 23053, 45061, 2533, 700, 3698, 119, 27877, 2963, 405, 9762, 1990, 9193, 16705, 9591, 620, 16152, 7948, 415, 35781, 424, 4651, 219, 9657, 958, 1529, 2961, 1264, 20168, 700, 7877, 41975, 3277, 282, 1115, 10393, 1478, 9178, 627, 28310, 219, 506, 6537, 37460, 627, 5234, 24963, 7861, 43726, 13771, 1635, 1322, 1990, 25534, 151, 4651, 30056, 620, 2413, 3204, 34381, 39388, 560, 28310, 1952, 23605, 196, 1409, 417, 1722, 267, 6909, 4651, 4184, 7948, 11828, 6537, 560, 29240, 151, 41207, 26551, 9433, 3209, 48540, 627, 879, 37011, 7954, 1496, 1178, 23088, 90, 2678, 279, 16118, 219, 415, 6361, 700, 12353, 2989, 1610, 2681, 1343, 3056, 1610, 1529, 2961, 21685, 44951, 1766, 23033, 5219, 23782, 90, 4183, 415, 1043, 14500, 990, 16152, 7948, 7068, 24973, 14081, 22034, 8774, 11287, 2126, 13367, 705, 11284, 700, 46788, 22580, 463, 20235, 6968, 241, 10859, 11613, 9611, 2533, 219, 1827, 4932, 29809, 1116, 40686, 687, 2533, 605, 2582, 8663, 20768, 90, 5065, 9178, 32198, 268, 35514, 196, 1644, 1193, 271, 26308, 261, 298, 9798, 13751, 2151, 1322, 119, 7026, 212, 2611, 700, 3698, 35706, 8307, 857, 3654, 1610, 11600, 16963, 225, 12807, 366, 26661, 17569, 4193, 30056, 14596, 627, 879, 37011, 8358, 8246, 4297, 34663, 13437, 4321, 8015, 37260, 620, 35575, 3690, 1990, 6014, 627, 31479, 3109, 2462, 27101, 857, 620, 700, 28310, 219, 26551, 1092, 14200, 41207, 179, 119, 13161, 3955, 7761, 4321, 5652, 49044, 833, 1488, 20168, 700, 5234, 6873, 17778, 298, 241, 34344, 212, 620, 700, 879, 37011, 7954, 17195, 560, 6551, 13566, 627, 5481, 10092, 15062, 9193, 16705, 23301, 12968, 1070, 1001, 5686, 13437, 37492, 254, 2379, 46051, 4352, 3804, 1990, 30056, 620, 700, 24132, 879, 37011, 90, 2368, 8338, 179, 47902, 990, 298, 366, 4468, 25558, 6014, 627, 28310, 219, 7333, 26551, 398, 4432, 151, 30056, 7485, 179, 7618, 242, 47153, 627, 7885, 10231, 2151, 2527, 506, 298, 9798, 2544, 605, 2160, 12541, 4297, 506, 40316, 1535, 14477, 13599, 397, 5720, 1943, 10197, 1071, 298, 8631, 49818, 196, 212, 2611, 700, 17742, 2558, 212, 9798, 18851, 354, 879, 30266, 40105, 2533, 179, 257, 2753, 3432, 995, 4321, 10998, 35954, 642, 4345, 2, 1, 1, 1, 1, 1, 1, 1, 1, 1, 1, 1, 1, 1, 1, 1, 1, 1, 1, 1, 1, 1, 1, 1, 1, 1, 1, 1, 1, 1, 1, 1, 1, 1, 1, 1, 1, 1, 1, 1, 1, 1, 1, 1, 1, 1, 1, 1, 1, 1, 1, 1, 1, 1, 1, 1, 1, 1, 1, 1, 1, 1, 1, 1, 1, 1, 1, 1, 1, 1, 1, 1, 1, 1, 1, 1, 1, 1, 1, 1, 1, 1, 1, 1, 1, 1, 1, 1, 1, 1, 1, 1, 1, 1, 1, 1, 1, 1, 1, 1, 1, 1, 1, 1, 1, 1, 1, 1, 1, 1, 1, 1, 1, 1, 1, 1, 1, 1, 1, 1, 1, 1, 1, 1, 1, 1, 1, 1, 1, 1, 1, 1, 1, 1, 1, 1, 1, 1, 1, 1, 1, 1, 1, 1, 1, 1, 1, 1, 1, 1, 1, 1, 1, 1, 1, 1, 1, 1, 1, 1, 1, 1, 1, 1, 1, 1, 1, 1, 1, 1, 1, 1, 1, 1, 1, 1, 1, 1, 1, 1, 1, 1, 1, 1, 1, 1, 1, 1, 1, 1, 1, 1, 1, 1, 1, 1, 1, 1, 1, 1, 1, 1, 1, 1, 1, 1, 1, 1, 1, 1, 1, 1, 1, 1, 1, 1, 1, 1, 1, 1, 1, 1, 1, 1, 1, 1, 1, 1, 1, 1, 1, 1, 1, 1, 1, 1, 1, 1, 1, 1, 1, 1, 1, 1, 1, 1, 1, 1, 1, 1, 1, 1, 1, 1, 1, 1, 1, 1, 1, 1, 1, 1, 1, 1, 1, 1, 1, 1, 1, 1, 1, 1, 1, 1, 1, 1, 1, 1, 1, 1, 1, 1, 1, 1, 1, 1, 1, 1, 1, 1, 1, 1, 1, 1, 1, 1, 1, 1, 1, 1, 1, 1, 1, 1, 1, 1, 1, 1, 1, 1, 1, 1, 1, 1, 1, 1, 1, 1, 1, 1, 1, 1, 1, 1, 1, 1, 1, 1, 1, 1, 1, 1, 1, 1, 1, 1, 1, 1, 1, 1, 1, 1, 1, 1, 1, 1, 1, 1, 1, 1, 1, 1, 1, 1, 1, 1, 1, 1, 1, 1, 1, 1, 1, 1, 1, 1, 1, 1, 1, 1, 1, 1, 1, 1, 1, 1, 1, 1, 1, 1, 1, 1, 1, 1, 1, 1, 1, 1, 1, 1, 1, 1, 1, 1, 1, 1, 1, 1, 1, 1, 1, 1, 1, 1, 1, 1, 1, 1, 1, 1, 1, 1, 1, 1, 1, 1, 1, 1, 1, 1, 1, 1, 1, 1, 1, 1, 1, 1, 1, 1, 1, 1, 1, 1, 1, 1, 1, 1, 1, 1, 1, 1, 1, 1, 1, 1, 1, 1, 1, 1, 1, 1, 1, 1, 1, 1, 1, 1, 1, 1, 1, 1, 1, 1, 1, 1, 1, 1, 1, 1, 1, 1, 1, 1, 1, 1, 1, 1, 1, 1, 1, 1, 1, 1, 1, 1, 1, 1, 1, 1, 1, 1, 1, 1, 1, 1, 1, 1, 1, 1, 1, 1, 1, 1, 1, 1, 1, 1, 1, 1, 1, 1, 1, 1, 1, 1, 1, 1, 1, 1, 1, 1, 1, 1, 1, 1, 1, 1, 1, 1, 1, 1, 1, 1, 1, 1, 1, 1, 1, 1, 1, 1, 1, 1, 1, 1, 1, 1, 1, 1, 1, 1, 1, 1, 1, 1, 1, 1, 1, 1, 1, 1, 1, 1, 1, 1, 1, 1, 1, 1, 1, 1, 1, 1, 1, 1, 1, 1, 1, 1, 1, 1, 1, 1, 1, 1, 1, 1, 1, 1, 1, 1, 1, 1, 1, 1, 1, 1, 1, 1, 1, 1, 1, 1, 1, 1, 1, 1, 1, 1, 1, 1, 1, 1, 1, 1, 1, 1, 1, 1, 1, 1, 1, 1, 1]], 'attention_mask': [[1, 1, 1, 1, 1, 1, 1, 1, 1, 1, 1, 1, 1, 1, 1, 1, 1, 1, 1, 1, 1, 1, 1, 1, 1, 1, 1, 1, 1, 1, 1, 1, 1, 1, 1, 1, 1, 1, 1, 1, 1, 1, 1, 1, 1, 1, 1, 1, 1, 1, 1, 1, 1, 1, 1, 1, 1, 1, 1, 1, 1, 1, 1, 1, 1, 1, 1, 1, 1, 1, 1, 1, 1, 1, 1, 1, 1, 1, 1, 1, 1, 1, 1, 1, 1, 1, 1, 1, 1, 1, 1, 1, 1, 1, 1, 1, 1, 1, 1, 1, 1, 1, 1, 1, 1, 1, 1, 1, 1, 1, 1, 1, 1, 1, 1, 1, 1, 1, 1, 1, 1, 1, 1, 1, 1, 1, 1, 1, 1, 1, 1, 1, 1, 1, 1, 1, 1, 1, 1, 1, 1, 1, 1, 1, 1, 1, 1, 1, 1, 1, 1, 1, 1, 1, 1, 1, 1, 1, 1, 1, 1, 1, 1, 1, 1, 1, 1, 1, 1, 1, 1, 1, 1, 1, 1, 1, 1, 1, 1, 1, 1, 1, 1, 1, 1, 1, 1, 1, 1, 1, 1, 1, 1, 1, 1, 1, 1, 1, 1, 1, 1, 1, 1, 1, 1, 1, 1, 1, 1, 1, 1, 1, 1, 1, 1, 1, 1, 1, 1, 1, 1, 1, 1, 1, 1, 1, 1, 1, 1, 1, 1, 1, 1, 1, 1, 1, 1, 1, 1, 1, 1, 1, 1, 1, 1, 1, 1, 1, 1, 1, 1, 1, 1, 1, 1, 1, 1, 1, 1, 1, 1, 1, 1, 1, 1, 1, 1, 1, 1, 1, 1, 1, 1, 1, 1, 1, 1, 1, 1, 1, 1, 1, 1, 1, 1, 1, 1, 1, 1, 1, 1, 1, 1, 1, 1, 1, 1, 1, 1, 1, 1, 1, 1, 1, 1, 1, 1, 1, 1, 1, 1, 1, 1, 1, 1, 1, 1, 1, 1, 1, 1, 1, 1, 1, 1, 1, 1, 1, 1, 1, 1, 1, 1, 1, 1, 1, 1, 1, 1, 1, 1, 1, 1, 1, 1, 1, 1, 1, 1, 1, 1, 1, 1, 1, 1, 1, 1, 1, 1, 1, 1, 1, 1, 1, 1, 1, 1, 1, 1, 1, 1, 1, 1, 1, 1, 1, 1, 1, 1, 1, 1, 1, 1, 1, 1, 1, 1, 1, 1, 1, 1, 1, 1, 1, 1, 1, 1, 1, 1, 1, 0, 0, 0, 0, 0, 0, 0, 0, 0, 0, 0, 0, 0, 0, 0, 0, 0, 0, 0, 0, 0, 0, 0, 0, 0, 0, 0, 0, 0, 0, 0, 0, 0, 0, 0, 0, 0, 0, 0, 0, 0, 0, 0, 0, 0, 0, 0, 0, 0, 0, 0, 0, 0, 0, 0, 0, 0, 0, 0, 0, 0, 0, 0, 0, 0, 0, 0, 0, 0, 0, 0, 0, 0, 0, 0, 0, 0, 0, 0, 0, 0, 0, 0, 0, 0, 0, 0, 0, 0, 0, 0, 0, 0, 0, 0, 0, 0, 0, 0, 0, 0, 0, 0, 0, 0, 0, 0, 0, 0, 0, 0, 0, 0, 0, 0, 0, 0, 0, 0, 0, 0, 0, 0, 0, 0, 0, 0, 0, 0, 0, 0, 0, 0, 0, 0, 0, 0, 0, 0, 0, 0, 0, 0, 0, 0, 0, 0, 0, 0, 0, 0, 0, 0, 0, 0, 0, 0, 0, 0, 0, 0, 0, 0, 0, 0, 0, 0, 0, 0, 0, 0, 0, 0, 0, 0, 0, 0, 0, 0, 0, 0, 0, 0, 0, 0, 0, 0, 0, 0, 0, 0, 0, 0, 0, 0, 0, 0, 0, 0, 0, 0, 0, 0, 0, 0, 0, 0, 0, 0, 0, 0, 0, 0, 0, 0, 0, 0, 0, 0, 0, 0, 0, 0, 0, 0, 0, 0, 0, 0, 0, 0, 0, 0, 0, 0, 0, 0, 0, 0, 0, 0, 0, 0, 0, 0, 0, 0, 0, 0, 0, 0, 0, 0, 0, 0, 0, 0, 0, 0, 0, 0, 0, 0, 0, 0, 0, 0, 0, 0, 0, 0, 0, 0, 0, 0, 0, 0, 0, 0, 0, 0, 0, 0, 0, 0, 0, 0, 0, 0, 0, 0, 0, 0, 0, 0, 0, 0, 0, 0, 0, 0, 0, 0, 0, 0, 0, 0, 0, 0, 0, 0, 0, 0, 0, 0, 0, 0, 0, 0, 0, 0, 0, 0, 0, 0, 0, 0, 0, 0, 0, 0, 0, 0, 0, 0, 0, 0, 0, 0, 0, 0, 0, 0, 0, 0, 0, 0, 0, 0, 0, 0, 0, 0, 0, 0, 0, 0, 0, 0, 0, 0, 0, 0, 0, 0, 0, 0, 0, 0, 0, 0, 0, 0, 0, 0, 0, 0, 0, 0, 0, 0, 0, 0, 0, 0, 0, 0, 0, 0, 0, 0, 0, 0, 0, 0, 0, 0, 0, 0, 0, 0, 0, 0, 0, 0, 0, 0, 0, 0, 0, 0, 0, 0, 0, 0, 0, 0, 0, 0, 0, 0, 0, 0, 0, 0, 0, 0, 0, 0, 0, 0, 0, 0, 0, 0, 0, 0, 0, 0, 0, 0, 0, 0, 0, 0, 0, 0, 0, 0, 0, 0, 0, 0, 0, 0, 0, 0, 0, 0, 0, 0, 0, 0, 0, 0, 0, 0, 0, 0, 0, 0, 0, 0, 0, 0, 0, 0, 0, 0, 0, 0, 0, 0, 0, 0, 0, 0, 0, 0, 0, 0, 0, 0, 0, 0, 0, 0, 0, 0, 0, 0, 0, 0, 0, 0, 0, 0, 0, 0, 0, 0, 0, 0, 0, 0, 0, 0, 0, 0, 0, 0, 0, 0, 0, 0, 0, 0, 0, 0, 0, 0, 0, 0, 0, 0, 0, 0, 0, 0, 0, 0, 0, 0, 0, 0, 0, 0, 0, 0, 0, 0, 0, 0, 0, 0, 0, 0, 0, 0, 0, 0, 0, 0, 0, 0, 0, 0, 0, 0, 0, 0, 0, 0, 0, 0, 0, 0, 0, 0, 0, 0, 0, 0, 0, 0, 0, 0, 0, 0, 0, 0, 0, 0, 0, 0, 0, 0, 0, 0, 0, 0, 0, 0, 0, 0, 0, 0, 0, 0, 0, 0, 0, 0, 0, 0, 0, 0, 0, 0, 0, 0, 0, 0, 0]]}"
      ]
     },
     "execution_count": 43,
     "metadata": {},
     "output_type": "execute_result"
    }
   ],
   "source": [
    "news_df[\"tokenized_article\"][0]"
   ]
  },
  {
   "cell_type": "code",
   "execution_count": 45,
   "id": "e48fec7b-16a4-4b8d-93e3-4d7b1e8a1741",
   "metadata": {},
   "outputs": [
    {
     "name": "stdout",
     "output_type": "stream",
     "text": [
      "<class 'pandas.core.frame.DataFrame'>\n",
      "RangeIndex: 44972 entries, 0 to 44971\n",
      "Data columns (total 4 columns):\n",
      " #   Column             Non-Null Count  Dtype \n",
      "---  ------             --------------  ----- \n",
      " 0   document           44972 non-null  object\n",
      " 1   summary            44972 non-null  object\n",
      " 2   articles           44972 non-null  object\n",
      " 3   tokenized_article  44972 non-null  object\n",
      "dtypes: object(4)\n",
      "memory usage: 1.4+ MB\n"
     ]
    }
   ],
   "source": [
    "news_df.info()"
   ]
  },
  {
   "cell_type": "code",
   "execution_count": null,
   "id": "b1f24c82-e794-4e7e-a15b-de400237ab28",
   "metadata": {},
   "outputs": [],
   "source": [
    "news_df[\"token_length\"] = news_df[\"document\"].apply(lambda x: len(tokenizer.encode(x, truncation=False)))\n",
    "print(news_df[\"token_length\"].describe())"
   ]
  },
  {
   "cell_type": "code",
   "execution_count": null,
   "id": "b7c1ffd8-045f-4c5d-b2c9-70110887b817",
   "metadata": {},
   "outputs": [],
   "source": []
  }
 ],
 "metadata": {
  "kernelspec": {
   "display_name": "Python 3 (ipykernel)",
   "language": "python",
   "name": "python3"
  },
  "language_info": {
   "codemirror_mode": {
    "name": "ipython",
    "version": 3
   },
   "file_extension": ".py",
   "mimetype": "text/x-python",
   "name": "python",
   "nbconvert_exporter": "python",
   "pygments_lexer": "ipython3",
   "version": "3.12.7"
  }
 },
 "nbformat": 4,
 "nbformat_minor": 5
}
